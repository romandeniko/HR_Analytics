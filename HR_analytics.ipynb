{
 "cells": [
  {
   "cell_type": "code",
   "execution_count": 16,
   "id": "6abad148-7941-45fd-b401-3f2c515dc2a0",
   "metadata": {},
   "outputs": [],
   "source": [
    "import requests\n",
    "\n",
    "url = \"https://api.hh.ru/areas\"\n",
    "token = 'USERKIT9NG8CSBDOK9LV3RS39BA7AGK40HMLRGDUPCVU10B86VF9J6SOIMKS5S36'\n",
    "\n",
    "payload = {}\n",
    "headers = {\n",
    "  'Authorization': token,\n",
    "  'Cookie': '__ddg10_=1730176878; __ddg1_=hrrGKbSU2Ca0wcxZNuia; __ddg8_=Z5GLYXfz5RAeAG5z; __ddg9_=188.162.12.111'\n",
    "}\n",
    "\n",
    "response = requests.request(\"GET\", url, headers=headers, data=payload)\n"
   ]
  },
  {
   "cell_type": "code",
   "execution_count": 164,
   "id": "aec4d2cb-feed-4a86-b87f-7e5dc1483b6a",
   "metadata": {},
   "outputs": [
    {
     "name": "stdout",
     "output_type": "stream",
     "text": [
      "['110267140', '107401060', '109744577', '111193560', '111194477', '108673494', '109806840', '109126346', '109700391', '111611157', '102824717', '110593710', '108312366', '107669544', '106328760', '110191916', '89243099', '103620081', '109829101', '110081611', '107201450', '110124860', '108744386', '108028513', '95393323', '106490130', '105020160', '105360224', '106132104', '105230984', '110117738', '108897097', '108439872', '109045887', '109729716', '107689060', '110936545', '108797588', '105017522', '110191238', '109458664', '110196388', '107733323', '110081068', '106804638', '105950628', '109626836', '110232586', '105232736', '107280818', '107960230', '107669697', '105359611', '109600957', '107545390', '107960219', '107960241', '107892772', '107960197', '107960208', '107960146', '107960119', '107960178']\n"
     ]
    }
   ],
   "source": [
    "vacancies_url = 'https://api.hh.ru/vacancies' #путь к вакансиям API hh.ru\n",
    "access_token = 'USERKIT9NG8CSBDOK9LV3RS39BA7AGK40HMLRGDUPCVU10B86VF9J6SOIMKS5S36' #OAuth токен\n",
    "    \n",
    "headers = {'Authorization': 'Bearer ' + access_token}\n",
    "payload = {'area': [90], 'professional_role': [10, 150, 148, 156], 'per_page': 100, 'page': 0}\n",
    "\n",
    "response = requests.get(vacancies_url, headers=headers, params=payload)\n",
    "json_string = response.json()\n",
    "num = len(json_string['items'])\n",
    "my_list = []\n",
    "for i in range(num):\n",
    "   my_list.append(json_string['items'][i]['id'])\n",
    "print(my_list)"
   ]
  },
  {
   "cell_type": "code",
   "execution_count": 166,
   "id": "64fb8d37-65fe-449e-891b-0e07d461f1b1",
   "metadata": {},
   "outputs": [
    {
     "name": "stdout",
     "output_type": "stream",
     "text": [
      "{\"errors\":[{\"type\":\"too_many_requests\"}],\"request_id\":\"173237394441058cfeb08c228ce26c8d\"}, \n"
     ]
    }
   ],
   "source": [
    "vacancies_url = 'https://api.hh.ru/vacancies/10267140' #путь к вакансиям API hh.ru\n",
    "access_token = 'USERKIT9NG8CSBDOK9LV3RS39BA7AGK40HMLRGDUPCVU10B86VF9J6SOIMKS5S36' #OAuth токен\n",
    "headers = {'Authorization': 'Bearer ' + access_token}\n",
    "response = requests.get(vacancies_url, headers=headers, params=payload)\n",
    "print(response.text + ', ')\n",
    "\n",
    "\n"
   ]
  },
  {
   "cell_type": "code",
   "execution_count": null,
   "id": "2cff5c1d-1b59-4db6-80f3-6085f3fde662",
   "metadata": {},
   "outputs": [],
   "source": [
    "del dictionary['premium']\n",
    "del dictionary['relations']\n",
    "del dictionary['insider_interview']\n",
    "del dictionary['response_letter_required']\n",
    "del dictionary['area']['url']\n",
    "del dictionary['type']\n",
    "del dictionary['address']\n",
    "del dictionary['allow_messages']\n",
    "del dictionary['has_test']\n",
    "del dictionary['description']\n",
    "del dictionary['department']\n",
    "del dictionary['contacts']\n",
    "del dictionary['branded_description']\n",
    "del dictionary['hidden']\n",
    "del dictionary['archived']\n",
    "del dictionary['specializations']\n",
    "del dictionary['accept_incomplete_resumes']\n",
    "del dictionary['driver_license_types']\n",
    "del dictionary['code']\n",
    "del dictionary['quick_responses_allowed']\n",
    "del dictionary['employer']['url']\n",
    "del dictionary['employer']['alternate_url']\n",
    "del dictionary['employer']['logo_urls']\n",
    "del dictionary['employer']['vacancies_url']\n",
    "del dictionary['employer']['applicant_services']\n",
    "del dictionary['employer']['accredited_it_employer']\n",
    "del dictionary['employer']['trusted']\n",
    "del dictionary['employer']['blacklisted']\n",
    "del dictionary['published_at']\n",
    "del dictionary['created_at']\n",
    "del dictionary['initial_created_at']\n",
    "del dictionary['negotiations_url']\n",
    "del dictionary['response_url']\n",
    "del dictionary['suitable_resumes_url']\n",
    "del dictionary['apply_alternate_url']\n",
    "del dictionary['alternate_url']\n",
    "del dictionary['vacancy_constructor_template']\n",
    "print(dictionary)"
   ]
  },
  {
   "cell_type": "code",
   "execution_count": null,
   "id": "b5fe9b15-0d18-435d-bf27-bc9960261850",
   "metadata": {},
   "outputs": [],
   "source": []
  }
 ],
 "metadata": {
  "kernelspec": {
   "display_name": "Python 3 (ipykernel)",
   "language": "python",
   "name": "python3"
  },
  "language_info": {
   "codemirror_mode": {
    "name": "ipython",
    "version": 3
   },
   "file_extension": ".py",
   "mimetype": "text/x-python",
   "name": "python",
   "nbconvert_exporter": "python",
   "pygments_lexer": "ipython3",
   "version": "3.13.0"
  }
 },
 "nbformat": 4,
 "nbformat_minor": 5
}
